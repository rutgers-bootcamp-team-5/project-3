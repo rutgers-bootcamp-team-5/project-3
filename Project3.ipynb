{
 "cells": [
  {
   "cell_type": "code",
   "execution_count": 1,
   "metadata": {},
   "outputs": [],
   "source": [
    "# Import dependencies\n",
    "import pandas as pd\n",
    "import psycopg2\n",
    "\n",
    "# user_credentials.py must be created locally. Initialize variables for username and password in this file.\n",
    "import user_credentials\n",
    "\n",
    "from pathlib import Path\n",
    "from psycopg2.extensions import ISOLATION_LEVEL_AUTOCOMMIT\n",
    "from sqlalchemy import create_engine, exc, text"
   ]
  },
  {
   "cell_type": "code",
   "execution_count": 3,
   "metadata": {},
   "outputs": [],
   "source": [
    "# Read routes data into dataframe\n",
    "routes_df = pd.read_csv(Path('data', 'routes_rated.csv'))\n",
    "routes_df.rename(columns={'name_id' : 'route_id'}, inplace=True)"
   ]
  },
  {
   "cell_type": "code",
   "execution_count": 4,
   "metadata": {},
   "outputs": [],
   "source": [
    "# Format case of text columns\n",
    "routes_df['country'] = routes_df['country'].str.upper()\n",
    "routes_df['crag'] = routes_df['crag'].str.title()\n",
    "routes_df['sector'] = routes_df['sector'].str.title()\n",
    "routes_df['name'] = routes_df['name'].str.title()"
   ]
  },
  {
   "cell_type": "code",
   "execution_count": 5,
   "metadata": {},
   "outputs": [],
   "source": [
    "# Create a new column called \"style\" which indicates if the route is preferred by short or tall climbers\n",
    "def style(x):\n",
    "    if x < 0:\n",
    "        return 'Short'\n",
    "    elif x > 0:\n",
    "        return 'Tall'\n",
    "    else:\n",
    "        return 'Neutral'\n",
    "\n",
    "routes_df['style'] = routes_df['tall_recommend_sum'].apply(style)"
   ]
  },
  {
   "cell_type": "code",
   "execution_count": 6,
   "metadata": {},
   "outputs": [],
   "source": [
    "# Clean up the dataframe by removing unnecessary columns\n",
    "routes_df = routes_df.drop('tall_recommend_sum', axis=1)"
   ]
  },
  {
   "cell_type": "code",
   "execution_count": 7,
   "metadata": {},
   "outputs": [],
   "source": [
    "# Change grade_mean column from float to int to allow for grade conversions.\n",
    "routes_df['grade_mean'] = routes_df['grade_mean'].astype(int)"
   ]
  },
  {
   "cell_type": "code",
   "execution_count": 8,
   "metadata": {},
   "outputs": [],
   "source": [
    "# Connect to postgres and create a database\n",
    "database_name = 'climbing_db'\n",
    "try:\n",
    "    conn = psycopg2.connect(f'user={user_credentials.username} password={user_credentials.password}')\n",
    "    conn.set_isolation_level(ISOLATION_LEVEL_AUTOCOMMIT)\n",
    "    cursor = conn.cursor()\n",
    "    cursor.execute(f'CREATE DATABASE {database_name};')\n",
    "except psycopg2.errors.DuplicateDatabase: \n",
    "    print(f'{database_name} database already exists')\n",
    "finally:\n",
    "    cursor.close()\n",
    "    conn.close()"
   ]
  },
  {
   "cell_type": "code",
   "execution_count": 9,
   "metadata": {},
   "outputs": [],
   "source": [
    "# Set connection to new created database using psycopg2\n",
    "host = 'localhost'\n",
    "port = '5432'\n",
    "try:\n",
    "    conn = psycopg2.connect(database=database_name, user=user_credentials.username, password=user_credentials.password, host =host, port=port)\n",
    "except psycopg2.errors.OperationalError:\n",
    "    print(\"Database connection not successful\") "
   ]
  },
  {
   "cell_type": "code",
   "execution_count": 10,
   "metadata": {},
   "outputs": [],
   "source": [
    "#Read country_codes.csv into dataframe\n",
    "countries_df = pd.read_csv(Path('data', 'country_codes.csv'))\n",
    "#Read grades_conversions.csv into dataframe\n",
    "grades_df = pd.read_csv(Path('data', 'grades_conversion_table.csv'))\n",
    "#Read clusters.csv into dataframe\n",
    "clusters_df = pd.read_csv(Path('data', 'clusters.csv'))"
   ]
  },
  {
   "cell_type": "code",
   "execution_count": 11,
   "metadata": {},
   "outputs": [],
   "source": [
    "# Create countries table using psycopg2 connection\n",
    "countries_table = 'countries'\n",
    "cursor = conn.cursor()\n",
    "table_creation = f'''\n",
    "   CREATE TABLE IF NOT EXISTS {countries_table} (\n",
    "       country_id VARCHAR(5) PRIMARY KEY,\n",
    "       country VARCHAR(100)\n",
    "   );\n",
    "'''\n",
    "cursor.execute(table_creation)\n",
    "conn.commit()\n",
    "\n",
    "# Insert dataframe into database table\n",
    "try:\n",
    "    engine = create_engine(f'postgresql://{user_credentials.username}:{user_credentials.password}@{host}:{port}/{database_name}')\n",
    "    countries_df.to_sql(countries_table, engine, if_exists='append', index = False)\n",
    "except exc.IntegrityError:\n",
    "    print('Attempted to insert a duplicate key. Check whether your data is already present in the database.')"
   ]
  },
  {
   "cell_type": "code",
   "execution_count": 12,
   "metadata": {},
   "outputs": [],
   "source": [
    "# Create clusters table using psycopg2 connection\n",
    "clusters_table = 'clusters'\n",
    "cursor = conn.cursor()\n",
    "table_creation = f'''\n",
    "   CREATE TABLE IF NOT EXISTS {clusters_table} (\n",
    "       cluster_id INT PRIMARY KEY,\n",
    "       description VARCHAR\n",
    "   );\n",
    "'''\n",
    "cursor.execute(table_creation)\n",
    "conn.commit()\n",
    "\n",
    "# Insert dataframe into database table\n",
    "try:\n",
    "    engine = create_engine(f'postgresql://{user_credentials.username}:{user_credentials.password}@{host}:{port}/{database_name}')\n",
    "    clusters_df.to_sql(clusters_table, engine, if_exists='append', index = False)\n",
    "except exc.IntegrityError:\n",
    "    print('Attempted to insert a duplicate key. Check whether your data is already present in the database.')"
   ]
  },
  {
   "cell_type": "code",
   "execution_count": 13,
   "metadata": {},
   "outputs": [],
   "source": [
    "# Create grades table using psycopg2 connection\n",
    "grades_table = 'grades'\n",
    "cursor = conn.cursor()\n",
    "table_creation = f'''\n",
    "   CREATE TABLE IF NOT EXISTS {grades_table} (\n",
    "       grade_id INT PRIMARY KEY,\n",
    "       grade_fra VARCHAR(15),\n",
    "       grade_yds VARCHAR(15),\n",
    "       grade_v VARCHAR(15)\n",
    "   );\n",
    "'''\n",
    "cursor.execute(table_creation)\n",
    "conn.commit()\n",
    "\n",
    "# Insert dataframe into database table\n",
    "try:\n",
    "    engine = create_engine(f'postgresql://{user_credentials.username}:{user_credentials.password}@{host}:{port}/{database_name}')\n",
    "    grades_df.to_sql(grades_table, engine, if_exists='append', index = False)\n",
    "except exc.IntegrityError:\n",
    "    print('Attempted to insert a duplicate key. Check whether your data is already present in the database.')"
   ]
  },
  {
   "cell_type": "code",
   "execution_count": 14,
   "metadata": {},
   "outputs": [],
   "source": [
    "# Create a table using psycopg2 connection\n",
    "routes_table = 'routes'\n",
    "cursor = conn.cursor()\n",
    "table_creation = f'''\n",
    "   CREATE TABLE IF NOT EXISTS {routes_table} (\n",
    "       route_id INT PRIMARY KEY,\n",
    "       country VARCHAR(3),\n",
    "       crag TEXT NOT NULL,\n",
    "       sector TEXT NOT NULL,\n",
    "       name TEXT NOT NULL,\n",
    "       grade_mean INT,\n",
    "       cluster INT,\n",
    "       rating_tot FLOAT,\n",
    "       style TEXT NOT NULL,\n",
    "       FOREIGN KEY(cluster) REFERENCES clusters(cluster_id),\n",
    "       FOREIGN KEY(country) REFERENCES countries(country_id),\n",
    "       FOREIGN KEY(grade_mean) REFERENCES grades(grade_id)\n",
    "   );\n",
    "'''\n",
    "cursor.execute(table_creation)\n",
    "conn.commit()\n",
    "\n",
    "# Insert dataframe into database table\n",
    "try:\n",
    "    engine = create_engine(f'postgresql://{user_credentials.username}:{user_credentials.password}@{host}:{port}/{database_name}')\n",
    "    routes_df.to_sql(routes_table, engine, if_exists='append', index = False)\n",
    "except exc.IntegrityError:\n",
    "    print('Attempted to insert a duplicate key. Check whether your data is already present in the database.')"
   ]
  },
  {
   "cell_type": "code",
   "execution_count": 16,
   "metadata": {},
   "outputs": [],
   "source": [
    "# Read climber data in dataframe\n",
    "climber_df = pd.read_csv(Path('data', 'climber_df.csv'))"
   ]
  },
  {
   "cell_type": "code",
   "execution_count": 17,
   "metadata": {},
   "outputs": [],
   "source": [
    "# Replace sex column values where 0 = Male and 1 = Female\n",
    "climber_df['sex'].replace([0, 1], ['M', 'F'], inplace=True)"
   ]
  },
  {
   "cell_type": "code",
   "execution_count": 18,
   "metadata": {},
   "outputs": [],
   "source": [
    "# Convert ages to age ranges to anonymize age data\n",
    "max_age = int(climber_df['age'].max())\n",
    "age_bins = [x for x in range(0, max_age + 5, 5)]\n",
    "age_labels = [f'{i+1}-{j}' for i, j in zip(age_bins[:-1], age_bins[1:])]\n",
    "climber_df['age'] = pd.cut(climber_df['age'], bins=age_bins, labels=age_labels)"
   ]
  },
  {
   "cell_type": "code",
   "execution_count": 19,
   "metadata": {},
   "outputs": [],
   "source": [
    "# Rename columns for clarity \n",
    "climber_df.rename(columns={'height': 'height_cm', 'weight': 'weight_kg', 'age': 'age_range'}, inplace=True)\n",
    "\n",
    "# change datatype of column\n",
    "climber_df['date_first'] = pd.to_datetime(climber_df['date_first'])\n",
    "climber_df['date_last'] = pd.to_datetime(climber_df['date_last'])"
   ]
  },
  {
   "cell_type": "code",
   "execution_count": 20,
   "metadata": {},
   "outputs": [],
   "source": [
    "#Convert grades_mean from float to int\n",
    "climber_df['grades_mean'] = climber_df['grades_mean'].astype(int)"
   ]
  },
  {
   "cell_type": "code",
   "execution_count": 21,
   "metadata": {},
   "outputs": [],
   "source": [
    "# Create a table using psycopg2 connection\n",
    "climber_table = 'climbers'\n",
    "cursor = conn.cursor()\n",
    "table_creation = f'''\n",
    "   CREATE TABLE IF NOT EXISTS {climber_table}(\n",
    "    user_id INT PRIMARY KEY,\n",
    "    country VARCHAR (5) NOT NULL,\n",
    "    sex CHAR(1) NOT NULL,\n",
    "    height_cm INT,\n",
    "    weight_kg INT,\n",
    "    age_range VARCHAR(5) NOT NULL,\n",
    "    years_cl INT,\n",
    "\tdate_first VARCHAR (20),\n",
    "\tdate_last VARCHAR(20),\n",
    "\tgrades_count INT,\n",
    "\tgrades_first INT,\n",
    "\tgrades_last INT,\n",
    "\tgrades_max INT,\n",
    "\tgrades_mean INT,\n",
    "\tYear_first INT,\n",
    "\tyear_last INT,\n",
    "    FOREIGN KEY(country) REFERENCES countries(country_id),\n",
    "    FOREIGN KEY (grades_mean) REFERENCES grades(grade_id)\n",
    "    );\n",
    "'''\n",
    "cursor.execute(table_creation)\n",
    "conn.commit()\n",
    "\n",
    "# Insert dataframe into database table\n",
    "try:\n",
    "    engine = create_engine(f'postgresql://{user_credentials.username}:{user_credentials.password}@{host}:{port}/{database_name}')\n",
    "    climber_df.to_sql(climber_table, engine, if_exists='append', index = False)\n",
    "except exc.IntegrityError:\n",
    "    print('Attempted to insert a duplicate key. Check whether your data is already present in the database.')"
   ]
  },
  {
   "cell_type": "code",
   "execution_count": 43,
   "metadata": {},
   "outputs": [],
   "source": [
    "cursor.close()\n",
    "conn.close()"
   ]
  }
 ],
 "metadata": {
  "kernelspec": {
   "display_name": "dev",
   "language": "python",
   "name": "python3"
  },
  "language_info": {
   "codemirror_mode": {
    "name": "ipython",
    "version": 3
   },
   "file_extension": ".py",
   "mimetype": "text/x-python",
   "name": "python",
   "nbconvert_exporter": "python",
   "pygments_lexer": "ipython3",
   "version": "3.10.13"
  }
 },
 "nbformat": 4,
 "nbformat_minor": 2
}
