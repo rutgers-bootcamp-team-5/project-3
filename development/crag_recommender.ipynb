{
 "cells": [
  {
   "cell_type": "code",
   "execution_count": null,
   "metadata": {},
   "outputs": [],
   "source": [
    "import pandas as pd\n",
    "import psycopg2\n",
    "import user_credentials"
   ]
  },
  {
   "cell_type": "code",
   "execution_count": 2,
   "metadata": {},
   "outputs": [],
   "source": [
    "# Get user input\n",
    "country = 'France'\n",
    "grade_lower = 'V5'\n",
    "grade_upper = 'V7'\n",
    "style = 'Neutral'\n",
    "\n",
    "# Choose desired grading scale\n",
    "try:\n",
    "    if '.' in grade_lower:\n",
    "        selected_scale = 'grade_yds'\n",
    "    elif 'v' in grade_lower.lower():\n",
    "        selected_scale = 'grade_v'\n",
    "    else:\n",
    "        selected_scale = 'grade_fra'\n",
    "except TypeError:\n",
    "    pass    # Handle bad grade error"
   ]
  },
  {
   "cell_type": "code",
   "execution_count": 3,
   "metadata": {},
   "outputs": [],
   "source": [
    "# Connect to the climbing_db database\n",
    "database_name = \"climbing_db\"\n",
    "try:\n",
    "    conn = psycopg2.connect(database = database_name, user = user_credentials.username, password = user_credentials.password, \n",
    "                            host = \"localhost\", port = \"5432\")\n",
    "    cursor = conn.cursor()\n",
    "except psycopg2.errors.OperationalError:\n",
    "    print(\"Database connection not successful\")\n",
    "\n",
    "# Query data\n",
    "cursor.execute(f'''\n",
    "SELECT c.country, r.crag, r.sector, r.name, r.grade_mean, r.rating_tot, r.style, g.{selected_scale}\n",
    "FROM countries AS c\n",
    "JOIN routes AS r ON c.country_id = r.country\n",
    "JOIN grades AS g on r.grade_mean = g.grade_id\n",
    "WHERE c.country = '{country}'\n",
    "''')\n",
    "data = cursor.fetchall()\n",
    "\n",
    "# Extract the data into a dataframe\n",
    "df = pd.DataFrame(data, columns=['country', 'crag', 'sector', 'route name', 'grade_mean', 'rating', 'style', 'grade'])\n",
    "\n",
    "cursor.close()\n",
    "conn.close()"
   ]
  },
  {
   "cell_type": "code",
   "execution_count": 4,
   "metadata": {},
   "outputs": [],
   "source": [
    "# Filter for style\n",
    "filtered_df = df[df['style'] == style]\n",
    "\n",
    "# Filter for grade range\n",
    "min_grade = filtered_df[filtered_df['grade'] == grade_lower]['grade_mean'].min()\n",
    "max_grade = filtered_df[filtered_df['grade'] == grade_upper]['grade_mean'].max()\n",
    "filtered_df = filtered_df[(filtered_df['grade_mean'] >= min_grade) & (filtered_df['grade_mean'] <= max_grade)]\n",
    "\n",
    "# Keep crags with at least 5 routes\n",
    "filtered_df = filtered_df.groupby('crag').filter(lambda x: len(x) > 4)\n",
    "\n",
    "# Select the crag containing routes with the greatest average rating\n",
    "best_crag = filtered_df.groupby('crag')['rating'].mean().sort_values(ascending=False).index[0]\n",
    "filtered_df = filtered_df[filtered_df['crag'] == best_crag].sort_values('rating', ascending=False)"
   ]
  },
  {
   "cell_type": "code",
   "execution_count": 5,
   "metadata": {},
   "outputs": [],
   "source": [
    "# Collect outputs\n",
    "output_columns = ['sector', 'route name', 'grade', 'rating']\n",
    "output = [tuple(output_columns)] + list(filtered_df[output_columns].itertuples(index=False, name=None))"
   ]
  }
 ],
 "metadata": {
  "kernelspec": {
   "display_name": "dev",
   "language": "python",
   "name": "python3"
  },
  "language_info": {
   "codemirror_mode": {
    "name": "ipython",
    "version": 3
   },
   "file_extension": ".py",
   "mimetype": "text/x-python",
   "name": "python",
   "nbconvert_exporter": "python",
   "pygments_lexer": "ipython3",
   "version": "3.10.13"
  }
 },
 "nbformat": 4,
 "nbformat_minor": 2
}
