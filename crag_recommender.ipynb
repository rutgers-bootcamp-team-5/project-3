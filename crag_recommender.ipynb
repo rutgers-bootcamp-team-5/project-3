{
 "cells": [
  {
   "cell_type": "code",
   "execution_count": 1,
   "metadata": {},
   "outputs": [],
   "source": [
    "import pandas as pd\n",
    "import psycopg2\n",
    "import user_credentials"
   ]
  },
  {
   "cell_type": "code",
   "execution_count": 2,
   "metadata": {},
   "outputs": [],
   "source": [
    "# Connect to the climbing_db database\n",
    "database_name = \"climbing_db\"\n",
    "try:\n",
    "    conn = psycopg2.connect(database = database_name, user = user_credentials.username, password = user_credentials.password, \n",
    "                            host = \"localhost\", port = \"5432\")\n",
    "except psycopg2.errors.OperationalError:\n",
    "    print(\"Database connection not successful\")"
   ]
  },
  {
   "cell_type": "code",
   "execution_count": 3,
   "metadata": {},
   "outputs": [],
   "source": [
    "# Query the database\n",
    "cursor = conn.cursor()\n",
    "cursor.execute('SELECT * from route_ratings;')\n",
    "route_data = cursor.fetchall()\n",
    "cursor.close()\n",
    "conn.close()"
   ]
  },
  {
   "cell_type": "code",
   "execution_count": 8,
   "metadata": {},
   "outputs": [],
   "source": [
    "# Extract the data into a dataframe\n",
    "routes_df = pd.DataFrame(route_data, columns=['name_id', 'country', 'crag', 'sector', 'name', 'grade_mean', 'cluster', 'rating', 'style'])\n",
    "routes_df.set_index('name_id', inplace=True)"
   ]
  },
  {
   "cell_type": "code",
   "execution_count": null,
   "metadata": {},
   "outputs": [],
   "source": [
    "county = ''\n",
    "grade_lower = 0\n",
    "grade_upper = 100\n",
    "style = 'Neutral'"
   ]
  }
 ],
 "metadata": {
  "kernelspec": {
   "display_name": "dev",
   "language": "python",
   "name": "python3"
  },
  "language_info": {
   "codemirror_mode": {
    "name": "ipython",
    "version": 3
   },
   "file_extension": ".py",
   "mimetype": "text/x-python",
   "name": "python",
   "nbconvert_exporter": "python",
   "pygments_lexer": "ipython3",
   "version": "3.10.13"
  }
 },
 "nbformat": 4,
 "nbformat_minor": 2
}
