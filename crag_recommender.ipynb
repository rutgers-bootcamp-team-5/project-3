{
 "cells": [
  {
   "cell_type": "code",
   "execution_count": 1,
   "metadata": {},
   "outputs": [],
   "source": [
    "import pandas as pd\n",
    "import psycopg2\n",
    "import user_credentials"
   ]
  },
  {
   "cell_type": "code",
   "execution_count": 2,
   "metadata": {},
   "outputs": [],
   "source": [
    "# Connect to the climbing_db database\n",
    "database_name = \"climbing_db\"\n",
    "try:\n",
    "    conn = psycopg2.connect(database = database_name, user = user_credentials.username, password = user_credentials.password, \n",
    "                            host = \"localhost\", port = \"5432\")\n",
    "    cursor = conn.cursor()\n",
    "except psycopg2.errors.OperationalError:\n",
    "    print(\"Database connection not successful\")"
   ]
  },
  {
   "cell_type": "code",
   "execution_count": 3,
   "metadata": {},
   "outputs": [],
   "source": [
    "# Query routes data\n",
    "cursor.execute('''\n",
    "SELECT c.country, r.crag, r.sector, r.name, r.grade_mean, r.rating_tot, r.style\n",
    "FROM countries AS c\n",
    "JOIN routes AS r ON c.country_id = r.country\n",
    "''')\n",
    "routes_data = cursor.fetchall()\n",
    "\n",
    "# Extract the data into a dataframe\n",
    "routes_df = pd.DataFrame(routes_data, columns=['country', 'crag', 'sector', 'name', 'grade', 'rating', 'style'])"
   ]
  },
  {
   "cell_type": "code",
   "execution_count": 6,
   "metadata": {},
   "outputs": [],
   "source": [
    "# Query grades data\n",
    "cursor.execute('SELECT * FROM grades')\n",
    "grades_data = cursor.fetchall()\n",
    "\n",
    "# Extract the data into a dataframe\n",
    "grades_df = pd.DataFrame(grades_data, columns=['id', 'french', 'yds', 'v'])\n",
    "grades_df.set_index('id', inplace=True)"
   ]
  },
  {
   "cell_type": "code",
   "execution_count": null,
   "metadata": {},
   "outputs": [],
   "source": [
    "cursor.close()\n",
    "conn.close()"
   ]
  },
  {
   "cell_type": "code",
   "execution_count": null,
   "metadata": {},
   "outputs": [],
   "source": [
    "county = ''\n",
    "grade_lower = 0\n",
    "grade_upper = 100\n",
    "style = 'Neutral'"
   ]
  }
 ],
 "metadata": {
  "kernelspec": {
   "display_name": "dev",
   "language": "python",
   "name": "python3"
  },
  "language_info": {
   "codemirror_mode": {
    "name": "ipython",
    "version": 3
   },
   "file_extension": ".py",
   "mimetype": "text/x-python",
   "name": "python",
   "nbconvert_exporter": "python",
   "pygments_lexer": "ipython3",
   "version": "3.10.13"
  }
 },
 "nbformat": 4,
 "nbformat_minor": 2
}
