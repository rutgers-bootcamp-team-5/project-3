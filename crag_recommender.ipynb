{
 "cells": [
  {
   "cell_type": "code",
   "execution_count": 1,
   "metadata": {},
   "outputs": [],
   "source": [
    "import pandas as pd\n",
    "import psycopg2\n",
    "import user_credentials"
   ]
  },
  {
   "cell_type": "code",
   "execution_count": 2,
   "metadata": {},
   "outputs": [],
   "source": [
    "# Get user input\n",
    "country = 'France'\n",
    "grade_lower = 'V5'\n",
    "grade_upper = 'V7'\n",
    "style = 'Neutral'"
   ]
  },
  {
   "cell_type": "code",
   "execution_count": 3,
   "metadata": {},
   "outputs": [],
   "source": [
    "# Choose desired grading scale\n",
    "try:\n",
    "    if '.' in grade_lower:\n",
    "        selected_scale = 'grade_yds'\n",
    "    elif 'v' in grade_lower.lower():\n",
    "        selected_scale = 'grade_v'\n",
    "    else:\n",
    "        selected_scale = 'grade_fra'\n",
    "except TypeError:\n",
    "    pass    # Handle bad grade error"
   ]
  },
  {
   "cell_type": "code",
   "execution_count": 4,
   "metadata": {},
   "outputs": [],
   "source": [
    "# Connect to the climbing_db database\n",
    "database_name = \"climbing_db\"\n",
    "try:\n",
    "    conn = psycopg2.connect(database = database_name, user = user_credentials.username, password = user_credentials.password, \n",
    "                            host = \"localhost\", port = \"5432\")\n",
    "    cursor = conn.cursor()\n",
    "except psycopg2.errors.OperationalError:\n",
    "    print(\"Database connection not successful\")"
   ]
  },
  {
   "cell_type": "code",
   "execution_count": 5,
   "metadata": {},
   "outputs": [],
   "source": [
    "# Query routes data\n",
    "cursor.execute(f'''\n",
    "SELECT c.country, r.crag, r.sector, r.name, r.grade_mean, r.rating_tot, r.style, g.{selected_scale}\n",
    "FROM countries AS c\n",
    "JOIN routes AS r ON c.country_id = r.country\n",
    "JOIN grades AS g on r.grade_mean = g.grade_id\n",
    "WHERE c.country = '{country}'\n",
    "''')\n",
    "data = cursor.fetchall()\n",
    "\n",
    "# Extract the data into a dataframe\n",
    "df = pd.DataFrame(data, columns=['country', 'crag', 'sector', 'route name', 'grade_mean', 'rating', 'style', 'grade'])"
   ]
  },
  {
   "cell_type": "code",
   "execution_count": 6,
   "metadata": {},
   "outputs": [],
   "source": [
    "cursor.close()\n",
    "conn.close()"
   ]
  },
  {
   "cell_type": "code",
   "execution_count": null,
   "metadata": {},
   "outputs": [],
   "source": [
    "# Filter for style\n",
    "df = df[df['style'] == style]\n",
    "df"
   ]
  },
  {
   "cell_type": "code",
   "execution_count": null,
   "metadata": {},
   "outputs": [],
   "source": [
    "# Filter for grade range\n",
    "min_grade = grades_df[grades_df[selected_scale] == grade_lower].index.min()\n",
    "max_grade = grades_df[grades_df[selected_scale] == grade_upper].index.max()\n",
    "df = df[(df['grade'] >= min_grade) & (df['grade'] <= max_grade)]\n",
    "df"
   ]
  },
  {
   "cell_type": "code",
   "execution_count": null,
   "metadata": {},
   "outputs": [],
   "source": [
    "# Keep crags with at least X routes\n",
    "df.groupby('crag').count() > 5"
   ]
  }
 ],
 "metadata": {
  "kernelspec": {
   "display_name": "dev",
   "language": "python",
   "name": "python3"
  },
  "language_info": {
   "codemirror_mode": {
    "name": "ipython",
    "version": 3
   },
   "file_extension": ".py",
   "mimetype": "text/x-python",
   "name": "python",
   "nbconvert_exporter": "python",
   "pygments_lexer": "ipython3",
   "version": "3.10.13"
  }
 },
 "nbformat": 4,
 "nbformat_minor": 2
}
